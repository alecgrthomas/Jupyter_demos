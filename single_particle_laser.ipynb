{
 "cells": [
  {
   "cell_type": "markdown",
   "id": "c387fe6c",
   "metadata": {},
   "source": [
    "## Single particle motion of an electron in a plane laser field\n",
    "\n",
    "This notebook demonstrates the analytic solutions for an electron in a plane wave, gaussian temporal profile laser pulse. This uses the usual normalizations except $\\omega_0$, the laser frequency instead of $\\omega_p$ for the normalizing frequency (so $t\\to\\omega_0t$, $E\\to eE/m_ec\\omega_0$ etc.)\n",
    "\n",
    "The laser pulse is of the form $a = a_0 \\exp(-\\xi^2/\\tau^2)\\sin(\\xi)$, where $\\xi = z-t$. Note this is the Optics definition of a gaussian pulse (c.f. $\\exp(-\\xi^2/2\\sigma_z^2$) for a particle beam). Assume pulse is linearly polarized in $\\hat{x}$ direction"
   ]
  },
  {
   "cell_type": "code",
   "execution_count": null,
   "id": "720b0083",
   "metadata": {},
   "outputs": [],
   "source": [
    "import numpy as np\n",
    "from numpy import pi as pi\n",
    "import matplotlib.pyplot as plt\n",
    "# plt.rcParams['text.usetex'] = True\n",
    "from scipy import integrate as nt\n",
    "from scipy.special import erf"
   ]
  },
  {
   "cell_type": "code",
   "execution_count": null,
   "id": "6a9e2a49",
   "metadata": {},
   "outputs": [],
   "source": [
    "# laser parameters - edit these to examine the effect of different field strengths / pulse durations\n",
    "a_0 = 4 # laser peak field strength\n",
    "tau = 5*2*pi #10*2*pi # pulse duration - 2*pi is one wavelength"
   ]
  },
  {
   "cell_type": "code",
   "execution_count": null,
   "id": "098043b5",
   "metadata": {},
   "outputs": [],
   "source": [
    "# set up xi space\n",
    "Nint = 10000\n",
    "xi = np.linspace(4*tau, -4*tau, Nint)\n",
    "dxi = xi[2] - xi[1]\n",
    "xi0 = 0"
   ]
  },
  {
   "cell_type": "code",
   "execution_count": null,
   "id": "be0040b1",
   "metadata": {},
   "outputs": [],
   "source": [
    "# define pulse\n",
    "a_ = a_0*np.exp(-(xi - xi0)**2/tau**2) # pulse envelope\n",
    "a = a_*np.sin(xi) # pulse waveform"
   ]
  },
  {
   "cell_type": "code",
   "execution_count": null,
   "id": "ce45293c",
   "metadata": {},
   "outputs": [],
   "source": [
    "# momenta in laser field\n",
    "px = a\n",
    "pz = 0.5*px**2\n",
    "gamma = np.sqrt(1 + px**2 + pz**2)"
   ]
  },
  {
   "cell_type": "code",
   "execution_count": null,
   "id": "99ca4e8d",
   "metadata": {},
   "outputs": [],
   "source": [
    "# numerical solutions for x and z\n",
    "x = -nt.cumtrapz(px, initial=0.)*dxi;\n",
    "z = -nt.cumtrapz(pz, initial=0.)*dxi;"
   ]
  },
  {
   "cell_type": "code",
   "execution_count": null,
   "id": "51143cc4",
   "metadata": {},
   "outputs": [],
   "source": [
    "# analytic solutions for x and z, and zdrift for gaussian pulse\n",
    "xan = a_*np.cos(xi)\n",
    "zdrift = -0.125*np.sqrt(pi/2)*a_0**2*tau*(erf(np.sqrt(2)*(xi - xi0)/tau) - 1.)\n",
    "zan = zdrift + 0.125*a_**2.*np.sin(2.0*xi)\n"
   ]
  },
  {
   "cell_type": "code",
   "execution_count": null,
   "id": "4e28b53c",
   "metadata": {},
   "outputs": [],
   "source": [
    "# Plot all quantities\n",
    "\n",
    "fig, axs = plt.subplots(2,2,figsize=(15,15))\n",
    "ax1 = axs[0,0]\n",
    "ax1.plot(xi,x,'C0',xi,xan,'--C2')\n",
    "ax1.set_ylabel(r'$x(\\xi)$', color='C0')\n",
    "ax1.set_xlabel(r'$\\xi$')\n",
    "ax1.tick_params(axis='y', color='C0', labelcolor='C0')\n",
    "ax1.set_title(r'$x$ and $z$ as functions of $\\xi$')\n",
    "ax1yy = ax1.twinx()\n",
    "ax1yy.plot(xi,zdrift,'--k',xi,z,'C1',xi,zan,'--C3')\n",
    "ax1yy.set_ylabel(r'$z(\\xi)$', color='C1')\n",
    "ax1yy.tick_params(axis='y', color='C1', labelcolor='C1')\n",
    "ax1.legend(('numeric','analytic'))\n",
    "ax1yy.legend(('$z_{drift}$','numeric','analytic'),loc=\"lower left\")\n",
    "\n",
    "ax2 = axs[0,1]\n",
    "ax2.plot(z-zdrift,x,'k',zan-zdrift,xan,'r--')\n",
    "ax2.set_ylabel(r'$x$')\n",
    "ax2.set_xlabel(r'$z - z_{drift}$')\n",
    "ax2.set_title(r'$x$ vs $z - z_{drift}$')\n",
    "ax2.legend(('numeric','analytic'))\n",
    "\n",
    "ax3 = axs[1,0]\n",
    "ax3.plot(xi,px,'C0')\n",
    "ax3.set_ylabel(r'$p_x(\\xi)$', color='C0')\n",
    "ax3.set_xlabel(r'$\\xi$')\n",
    "ax3.tick_params(axis='y', color='C0', labelcolor='C0')\n",
    "ax3.set_title(r'$p_x$ and $p_z$ as functions of $\\xi$')\n",
    "ax3yy = ax3.twinx()\n",
    "ax3yy.plot(xi,pz,'C1')\n",
    "ax3yy.set_ylabel(r'$p_z(\\xi)$', color='C1')\n",
    "ax3yy.tick_params(axis='y', color='C1', labelcolor='C1')\n",
    "\n",
    "ax4 = axs[1,1]\n",
    "ax4.plot(pz,px,'k')\n",
    "ax4.set_ylabel(r'$p_x$')\n",
    "ax4.set_xlabel(r'$p_z$')\n",
    "ax4.set_title(r'$p_x$ vs $p_z$')\n",
    "\n",
    "plt.show()\n",
    "\n"
   ]
  },
  {
   "cell_type": "code",
   "execution_count": null,
   "id": "0ac9792c",
   "metadata": {},
   "outputs": [],
   "source": []
  },
  {
   "cell_type": "code",
   "execution_count": null,
   "id": "2b5e8c1e",
   "metadata": {},
   "outputs": [],
   "source": []
  }
 ],
 "metadata": {
  "kernelspec": {
   "display_name": "Python 3 (ipykernel)",
   "language": "python",
   "name": "python3"
  },
  "language_info": {
   "codemirror_mode": {
    "name": "ipython",
    "version": 3
   },
   "file_extension": ".py",
   "mimetype": "text/x-python",
   "name": "python",
   "nbconvert_exporter": "python",
   "pygments_lexer": "ipython3",
   "version": "3.9.1"
  }
 },
 "nbformat": 4,
 "nbformat_minor": 5
}
